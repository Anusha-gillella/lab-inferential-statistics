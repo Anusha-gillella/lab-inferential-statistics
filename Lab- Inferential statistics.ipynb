{
 "cells": [
  {
   "cell_type": "markdown",
   "id": "d6a2bdba",
   "metadata": {},
   "source": [
    "Based on Honolulu Heart Study, with respect to systolic blood pressure of this group differs to the regular population.  "
   ]
  },
  {
   "cell_type": "markdown",
   "id": "a6f9261f",
   "metadata": {},
   "source": [
    "## Intro\n",
    "According to the given data, \n",
    "\n",
    "μ(H0) = 120 mm Hg (Heart Study- mean systolic blood pressure)\n",
    "\n",
    "n = 100 (sample size)\n",
    "\n",
    "s = 21.21 mm Hg (standard deviation)\n",
    "\n",
    "x̄ = 130.1 mm Hg  (population average systolic blood pressure)\n",
    "\n",
    "In population, to compare the means of different groups, do not have other group data mean.\n",
    "so decided to choose one-sample-test.\n",
    "\n",
    "#### equation(one-sample-test):\n",
    "\n",
    "              t_test = (x̄ - μ) / (s / √n)"
   ]
  },
  {
   "cell_type": "markdown",
   "id": "5563edc3",
   "metadata": {},
   "source": [
    "### Assumptions:\n",
    "Null hypothesis (H0) : μ = 120\n",
    "\n",
    "Alternative hypothesis (H1) : μ =! 120\n",
    "\n",
    "significance level : α = 0.05"
   ]
  },
  {
   "cell_type": "code",
   "execution_count": 1,
   "id": "9ecb7962",
   "metadata": {},
   "outputs": [
    {
     "name": "stdout",
     "output_type": "stream",
     "text": [
      "4.761904761904759\n"
     ]
    }
   ],
   "source": [
    "# Manual calculation\n",
    "import numpy as np\n",
    "\n",
    "x̄ = 130.1\n",
    "μ = 120\n",
    "s = 21.21\n",
    "n = 100\n",
    "\n",
    "t_test = (x̄ - μ) / (s / np.sqrt(n))\n",
    "print(t_test)"
   ]
  },
  {
   "cell_type": "markdown",
   "id": "4babbd74",
   "metadata": {},
   "source": [
    "#####  generate the data for python function"
   ]
  },
  {
   "cell_type": "code",
   "execution_count": 2,
   "id": "5ef9886d",
   "metadata": {},
   "outputs": [],
   "source": [
    "import matplotlib.pyplot as plt\n",
    "import scipy.stats as stats\n",
    "from scipy.stats import norm"
   ]
  },
  {
   "cell_type": "code",
   "execution_count": 3,
   "id": "3aa78ea6",
   "metadata": {},
   "outputs": [],
   "source": [
    "#\n",
    "H_sample_mean = 130.1\n",
    "H_sample_size = 100\n",
    "H_sample_std = 21.21\n",
    "\n",
    "data = norm.rvs(loc=H_sample_mean, scale=H_sample_std, size=H_sample_size)"
   ]
  },
  {
   "cell_type": "code",
   "execution_count": 4,
   "id": "340ddc23",
   "metadata": {},
   "outputs": [
    {
     "data": {
      "text/plain": [
       "array([147.36488539, 143.5918856 , 113.05744549, 160.55692547,\n",
       "        76.13985458, 169.7557417 , 118.39777253, 130.16328205,\n",
       "       116.22593634, 131.8611296 , 136.98974295, 134.35940103,\n",
       "       139.94781998, 153.61956541, 115.77053052, 121.24270046,\n",
       "       102.31917689, 118.68516509,  94.74411941, 116.24365191,\n",
       "       117.83260586, 155.5742162 , 116.18185896,  89.01128403,\n",
       "       131.82659523,  57.91692132, 146.90748252, 164.77744606,\n",
       "       105.95999658, 138.75468825, 149.70921885, 115.7904221 ,\n",
       "       130.7805154 , 127.12927227, 141.65137262, 130.23196095,\n",
       "       146.26258343, 122.92664637, 119.92993682, 132.52190119,\n",
       "       147.25923651, 134.24947569, 136.83148184, 170.31042824,\n",
       "       124.84661348, 143.02234926, 117.85938598, 136.31406572,\n",
       "       120.40153253, 142.44138489, 132.95506406,  84.44892495,\n",
       "       136.23439449,  87.81657535, 157.32687874, 125.91601661,\n",
       "       141.09036297, 154.14083033, 139.30633273, 164.96110059,\n",
       "       168.21571341, 158.49539135, 114.36001655, 143.5526623 ,\n",
       "       156.90330024, 150.68689255, 127.58838718, 118.84816997,\n",
       "       157.52741117, 119.55061086, 132.02046209, 146.49326513,\n",
       "       104.87201583, 120.97936093, 163.17370479, 131.30234805,\n",
       "       138.7879238 , 121.60326657, 116.66544345, 130.91933951,\n",
       "       126.69895821, 131.33438332, 123.3922355 , 168.30257635,\n",
       "       146.84800729, 164.19533747, 126.79023112, 125.68120623,\n",
       "       114.6157386 ,  82.055107  , 133.26329644, 109.17320671,\n",
       "       115.64151292, 133.76291767, 129.53924653, 128.49334461,\n",
       "        94.88796591, 116.42657395, 165.08601816, 112.31874487])"
      ]
     },
     "execution_count": 4,
     "metadata": {},
     "output_type": "execute_result"
    }
   ],
   "source": [
    "data"
   ]
  },
  {
   "cell_type": "code",
   "execution_count": 5,
   "id": "8e05db16",
   "metadata": {},
   "outputs": [],
   "source": [
    "from scipy.stats import ttest_1samp"
   ]
  },
  {
   "cell_type": "code",
   "execution_count": 6,
   "id": "83d5a6d7",
   "metadata": {},
   "outputs": [],
   "source": [
    "t,p = ttest_1samp(data,120)"
   ]
  },
  {
   "cell_type": "code",
   "execution_count": 7,
   "id": "00631a3c",
   "metadata": {},
   "outputs": [
    {
     "name": "stdout",
     "output_type": "stream",
     "text": [
      "4.839623881253243 4.791168392249572e-06\n"
     ]
    }
   ],
   "source": [
    "print(t,p)"
   ]
  },
  {
   "cell_type": "markdown",
   "id": "72290899",
   "metadata": {},
   "source": [
    "### Observation:\n",
    "\n",
    "However in manual calculation i obtain the result as expected, but Automatic python code gives the different t_test value becuase of the 'random variance'.\n",
    "\n",
    "p-value is less than 0.05 and there is a significant differece between population and study, so i decided to reject the null hypothesis. \n",
    "\n",
    "Reject the null-hypothesis and accept alternative hypothesis."
   ]
  },
  {
   "cell_type": "code",
   "execution_count": null,
   "id": "db2967e0",
   "metadata": {},
   "outputs": [],
   "source": []
  }
 ],
 "metadata": {
  "kernelspec": {
   "display_name": "Python 3 (ipykernel)",
   "language": "python",
   "name": "python3"
  },
  "language_info": {
   "codemirror_mode": {
    "name": "ipython",
    "version": 3
   },
   "file_extension": ".py",
   "mimetype": "text/x-python",
   "name": "python",
   "nbconvert_exporter": "python",
   "pygments_lexer": "ipython3",
   "version": "3.9.12"
  }
 },
 "nbformat": 4,
 "nbformat_minor": 5
}
